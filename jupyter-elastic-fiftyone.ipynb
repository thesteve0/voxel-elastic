{
 "cells": [
  {
   "cell_type": "code",
   "id": "1a81fe81d5b1935",
   "metadata": {},
   "source": [
    "import fiftyone as fo\n",
    "import fiftyone.brain as fob\n",
    "import fiftyone.zoo as foz\n",
    "\n",
    "dataset = foz.load_zoo_dataset(\"quickstart\")\n"
   ],
   "outputs": [],
   "execution_count": null
  },
  {
   "cell_type": "markdown",
   "id": "ec35699cd06a36ab",
   "metadata": {},
   "source": "### Loaded the dataset now let's open the view"
  },
  {
   "cell_type": "code",
   "id": "e9f7937dd24982bb",
   "metadata": {},
   "source": [
    "# auto=false prevents the app interface from opening in the notebook\n",
    "session = fo.launch_app(dataset, auto=False)\n",
    "            "
   ],
   "outputs": [],
   "execution_count": null
  },
  {
   "cell_type": "markdown",
   "id": "8ed6cc50ca454d41",
   "metadata": {},
   "source": "### Now we make the embeddings and put them into elasticsearch"
  },
  {
   "cell_type": "code",
   "id": "3332e8f15e0a3a8",
   "metadata": {},
   "source": [
    "es_idx_clip = fob.compute_similarity(\n",
    "    dataset,    \n",
    "    model=\"clip-vit-base32-torch\",\n",
    "    brain_key=\"es_idx_clip\",\n",
    "    backend=\"elasticsearch\",\n",
    "    hosts=[\"http://localhost:9200\"],           \n",
    "    username= \"elastic\",\n",
    "    password=\"cdBfWA3A\",                                               \n",
    "    metric=\"cosine\"\n",
    ")"
   ],
   "outputs": [],
   "execution_count": null
  },
  {
   "cell_type": "code",
   "id": "605f1f660876fbd6",
   "metadata": {},
   "source": [
    "es_idx_alex = fob.compute_similarity(\n",
    "    dataset,\n",
    "    model=\"alexnet-imagenet-torch\",\n",
    "    brain_key=\"es_idx_alex\",\n",
    "    backend=\"elasticsearch\",\n",
    "    hosts=[\"http://localhost:9200\"],\n",
    "    username= \"elastic\",\n",
    "    password=\"cdBfWA3A\",\n",
    "    metric=\"cosine\"\n",
    ")"
   ],
   "outputs": [],
   "execution_count": null
  },
  {
   "cell_type": "markdown",
   "id": "70376aa3-91e9-49d1-b85e-24d4b173504d",
   "metadata": {},
   "source": "### Let's look at the 2D scatter plot of the embeddings. Note, there are several ways to reduce the embedding dimensions to 2, FiftyOne uses Uniform Manifold Approximation and Projection (UMAP) by default https://docs.voxel51.com/brain.html#dimensionality-reduction-methods"
  },
  {
   "cell_type": "code",
   "id": "1d834bd18cdead00",
   "metadata": {},
   "source": [
    "clip_viz = fob.compute_visualization(dataset, embeddings=es_idx_clip, brain_key='clip_viz')\n",
    "clip_alex = fob.compute_visualization(dataset, embeddings=es_idx_alex, brain_key='alex_viz')\n"
   ],
   "outputs": [],
   "execution_count": null
  },
  {
   "metadata": {},
   "cell_type": "markdown",
   "source": "### Time to do a query and change the session view",
   "id": "6595380f2716d73c"
  },
  {
   "metadata": {},
   "cell_type": "code",
   "source": [
    "# Query by sample ID\n",
    "query = dataset.first().id\n",
    "view = dataset.sort_by_similarity(query, k=15, brain_key=\"es_idx_alex\")\n",
    "session.view = view\n",
    "\n",
    "# plane_id = '6705c8453275279fae280467' \n",
    "# query = plane_id\n",
    "# plane_view = dataset.sort_by_similarity(query, k=15, brain_key=\"es_idx_alex\")\n",
    "# session.view = plane_view\n",
    "\n",
    "# query = (\"airplane\")\n",
    "# view2 = dataset.sort_by_similarity(query, k=10, brain_key=\"es_idx_clip\")\n",
    "# session.view = view2  \n"
   ],
   "id": "a14e36706a0eaa60",
   "outputs": [],
   "execution_count": null
  },
  {
   "metadata": {},
   "cell_type": "markdown",
   "source": "### Clean up the Brain keys we made",
   "id": "c21f6d6b5a7f7dc2"
  },
  {
   "metadata": {},
   "cell_type": "code",
   "source": [
    "# Reset the brain run indexes\n",
    "dataset.delete_brain_run(\"es_idx_clip\")\n",
    "dataset.delete_brain_run(\"es_idx_alex\")\n",
    "dataset.delete_brain_run(\"clip_viz\")\n",
    "dataset.delete_brain_run(\"alex_viz\")"
   ],
   "id": "d4b2086953e3a5a4",
   "outputs": [],
   "execution_count": null
  },
  {
   "cell_type": "markdown",
   "id": "79148aa6dcbea0d8",
   "metadata": {},
   "source": [
    "### Notes on running this demo\n",
    "\n",
    "If you do multiple runs of the model look at this doc to explain the already exisiting run index\n",
    "https://voxel51.com/blog/fiftyone-computer-vision-tips-and-tricks-july-28-2023/\n",
    "\n",
    "To start the demo you need to \n",
    "1. start up the mongodb container in podman\n",
    "2. use the elasticsearch script in ~/bin/elastic-start-local \n",
    "3. repo https://github.com/elastic/elastic-start-local \n",
    "4. `docker compose up -d`\n",
    "5. `docker compose stop`\n",
    "6. `docker compose up --wait`  (restarts the service\n",
    "7. password and connection info are .env found in the same directory"
   ]
  }
 ],
 "metadata": {
  "kernelspec": {
   "display_name": "Python 3 (ipykernel)",
   "language": "python",
   "name": "python3"
  },
  "language_info": {
   "codemirror_mode": {
    "name": "ipython",
    "version": 3
   },
   "file_extension": ".py",
   "mimetype": "text/x-python",
   "name": "python",
   "nbconvert_exporter": "python",
   "pygments_lexer": "ipython3",
   "version": "3.12.6"
  }
 },
 "nbformat": 4,
 "nbformat_minor": 5
}
