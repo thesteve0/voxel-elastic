{
 "cells": [
  {
   "cell_type": "code",
   "id": "1a81fe81d5b1935",
   "metadata": {
    "ExecuteTime": {
     "end_time": "2024-10-09T22:34:57.283624Z",
     "start_time": "2024-10-09T22:34:54.197124Z"
    }
   },
   "source": [
    "import fiftyone as fo\n",
    "import fiftyone.brain as fob\n",
    "import fiftyone.zoo as foz\n",
    "\n",
    "dataset = foz.load_zoo_dataset(\"quickstart\")\n",
    "\n",
    "# Reset the brain run indexes - only run if this is a new mongodb instance for fifty one OR\n",
    "# you manually deleted a brain run\n",
    "# dataset.delete_brain_run(\"es_idx_clip\")\n",
    "# dataset.delete_brain_run(\"es_idx_alex\")\n",
    "# dataset.delete_brain_run(\"clip_viz\")\n",
    "# dataset.delete_brain_run(\"alex_viz\")\n"
   ],
   "outputs": [
    {
     "name": "stdout",
     "output_type": "stream",
     "text": [
      "Dataset already downloaded\n",
      "Loading existing dataset 'quickstart'. To reload from disk, either delete the existing dataset or provide a custom `dataset_name` to use\n"
     ]
    },
    {
     "ename": "ValueError",
     "evalue": "Dataset has no brain method run key 'es_idx_alex'",
     "output_type": "error",
     "traceback": [
      "\u001B[0;31m---------------------------------------------------------------------------\u001B[0m",
      "\u001B[0;31mValueError\u001B[0m                                Traceback (most recent call last)",
      "Cell \u001B[0;32mIn[1], line 10\u001B[0m\n\u001B[1;32m      7\u001B[0m \u001B[38;5;66;03m# Reset the brain run indexes - only run if this is a new mongodb instance for fifty one OR\u001B[39;00m\n\u001B[1;32m      8\u001B[0m \u001B[38;5;66;03m# you manually deleted a brain run\u001B[39;00m\n\u001B[1;32m      9\u001B[0m dataset\u001B[38;5;241m.\u001B[39mdelete_brain_run(\u001B[38;5;124m\"\u001B[39m\u001B[38;5;124mes_idx_clip\u001B[39m\u001B[38;5;124m\"\u001B[39m)\n\u001B[0;32m---> 10\u001B[0m \u001B[43mdataset\u001B[49m\u001B[38;5;241;43m.\u001B[39;49m\u001B[43mdelete_brain_run\u001B[49m\u001B[43m(\u001B[49m\u001B[38;5;124;43m\"\u001B[39;49m\u001B[38;5;124;43mes_idx_alex\u001B[39;49m\u001B[38;5;124;43m\"\u001B[39;49m\u001B[43m)\u001B[49m\n\u001B[1;32m     11\u001B[0m dataset\u001B[38;5;241m.\u001B[39mdelete_brain_run(\u001B[38;5;124m\"\u001B[39m\u001B[38;5;124mclip_viz\u001B[39m\u001B[38;5;124m\"\u001B[39m)\n\u001B[1;32m     12\u001B[0m dataset\u001B[38;5;241m.\u001B[39mdelete_brain_run(\u001B[38;5;124m\"\u001B[39m\u001B[38;5;124malex_viz\u001B[39m\u001B[38;5;124m\"\u001B[39m)\n",
      "File \u001B[0;32m~/.virtualenvs/voxel51/lib64/python3.12/site-packages/fiftyone/core/collections.py:4055\u001B[0m, in \u001B[0;36mSampleCollection.delete_brain_run\u001B[0;34m(self, brain_key)\u001B[0m\n\u001B[1;32m   4048\u001B[0m \u001B[38;5;28;01mdef\u001B[39;00m \u001B[38;5;21mdelete_brain_run\u001B[39m(\u001B[38;5;28mself\u001B[39m, brain_key):\n\u001B[1;32m   4049\u001B[0m \u001B[38;5;250m    \u001B[39m\u001B[38;5;124;03m\"\"\"Deletes the brain method run with the given key from this\u001B[39;00m\n\u001B[1;32m   4050\u001B[0m \u001B[38;5;124;03m    collection.\u001B[39;00m\n\u001B[1;32m   4051\u001B[0m \n\u001B[1;32m   4052\u001B[0m \u001B[38;5;124;03m    Args:\u001B[39;00m\n\u001B[1;32m   4053\u001B[0m \u001B[38;5;124;03m        brain_key: a brain key\u001B[39;00m\n\u001B[1;32m   4054\u001B[0m \u001B[38;5;124;03m    \"\"\"\u001B[39;00m\n\u001B[0;32m-> 4055\u001B[0m     \u001B[43mfob\u001B[49m\u001B[38;5;241;43m.\u001B[39;49m\u001B[43mBrainMethod\u001B[49m\u001B[38;5;241;43m.\u001B[39;49m\u001B[43mdelete_run\u001B[49m\u001B[43m(\u001B[49m\u001B[38;5;28;43mself\u001B[39;49m\u001B[43m,\u001B[49m\u001B[43m \u001B[49m\u001B[43mbrain_key\u001B[49m\u001B[43m)\u001B[49m\n",
      "File \u001B[0;32m~/.virtualenvs/voxel51/lib64/python3.12/site-packages/fiftyone/core/runs.py:807\u001B[0m, in \u001B[0;36mBaseRun.delete_run\u001B[0;34m(cls, samples, key, cleanup)\u001B[0m\n\u001B[1;32m    796\u001B[0m \u001B[38;5;129m@classmethod\u001B[39m\n\u001B[1;32m    797\u001B[0m \u001B[38;5;28;01mdef\u001B[39;00m \u001B[38;5;21mdelete_run\u001B[39m(\u001B[38;5;28mcls\u001B[39m, samples, key, cleanup\u001B[38;5;241m=\u001B[39m\u001B[38;5;28;01mTrue\u001B[39;00m):\n\u001B[1;32m    798\u001B[0m \u001B[38;5;250m    \u001B[39m\u001B[38;5;124;03m\"\"\"Deletes the results associated with the given run key from the\u001B[39;00m\n\u001B[1;32m    799\u001B[0m \u001B[38;5;124;03m    collection.\u001B[39;00m\n\u001B[1;32m    800\u001B[0m \n\u001B[0;32m   (...)\u001B[0m\n\u001B[1;32m    805\u001B[0m \u001B[38;5;124;03m            :meth:`BaseRun.cleanup` method\u001B[39;00m\n\u001B[1;32m    806\u001B[0m \u001B[38;5;124;03m    \"\"\"\u001B[39;00m\n\u001B[0;32m--> 807\u001B[0m     run_doc \u001B[38;5;241m=\u001B[39m \u001B[38;5;28;43mcls\u001B[39;49m\u001B[38;5;241;43m.\u001B[39;49m\u001B[43m_get_run_doc\u001B[49m\u001B[43m(\u001B[49m\u001B[43msamples\u001B[49m\u001B[43m,\u001B[49m\u001B[43m \u001B[49m\u001B[43mkey\u001B[49m\u001B[43m)\u001B[49m\n\u001B[1;32m    809\u001B[0m     \u001B[38;5;28;01mif\u001B[39;00m cleanup:\n\u001B[1;32m    810\u001B[0m         \u001B[38;5;28;01mtry\u001B[39;00m:\n\u001B[1;32m    811\u001B[0m             \u001B[38;5;66;03m# Execute cleanup() method\u001B[39;00m\n",
      "File \u001B[0;32m~/.virtualenvs/voxel51/lib64/python3.12/site-packages/fiftyone/core/runs.py:881\u001B[0m, in \u001B[0;36mBaseRun._get_run_doc\u001B[0;34m(cls, samples, key)\u001B[0m\n\u001B[1;32m    879\u001B[0m run_doc \u001B[38;5;241m=\u001B[39m run_docs\u001B[38;5;241m.\u001B[39mget(key, \u001B[38;5;28;01mNone\u001B[39;00m)\n\u001B[1;32m    880\u001B[0m \u001B[38;5;28;01mif\u001B[39;00m run_doc \u001B[38;5;129;01mis\u001B[39;00m \u001B[38;5;28;01mNone\u001B[39;00m:\n\u001B[0;32m--> 881\u001B[0m     \u001B[38;5;28;01mraise\u001B[39;00m \u001B[38;5;167;01mValueError\u001B[39;00m(\n\u001B[1;32m    882\u001B[0m         \u001B[38;5;124m\"\u001B[39m\u001B[38;5;124mDataset has no \u001B[39m\u001B[38;5;132;01m%s\u001B[39;00m\u001B[38;5;124m key \u001B[39m\u001B[38;5;124m'\u001B[39m\u001B[38;5;132;01m%s\u001B[39;00m\u001B[38;5;124m'\u001B[39m\u001B[38;5;124m\"\u001B[39m \u001B[38;5;241m%\u001B[39m (\u001B[38;5;28mcls\u001B[39m\u001B[38;5;241m.\u001B[39m_run_str(), key)\n\u001B[1;32m    883\u001B[0m     )\n\u001B[1;32m    885\u001B[0m \u001B[38;5;28;01mreturn\u001B[39;00m run_doc\n",
      "\u001B[0;31mValueError\u001B[0m: Dataset has no brain method run key 'es_idx_alex'"
     ]
    }
   ],
   "execution_count": 1
  },
  {
   "cell_type": "markdown",
   "id": "ec35699cd06a36ab",
   "metadata": {},
   "source": [
    "Loaded the dataset now let's open the view"
   ]
  },
  {
   "cell_type": "code",
   "execution_count": null,
   "id": "e9f7937dd24982bb",
   "metadata": {
    "ExecuteTime": {
     "end_time": "2024-10-09T22:09:40.974718Z",
     "start_time": "2024-10-09T22:09:35.811280Z"
    }
   },
   "outputs": [],
   "source": [
    "# auto=false prevents the app interface from opening in the notebook\n",
    "session = fo.launch_app(dataset, auto=False)\n",
    "            "
   ]
  },
  {
   "cell_type": "markdown",
   "id": "8ed6cc50ca454d41",
   "metadata": {},
   "source": [
    "Now we make the embeddings and put them into elasticsearch"
   ]
  },
  {
   "cell_type": "code",
   "execution_count": null,
   "id": "3332e8f15e0a3a8",
   "metadata": {
    "ExecuteTime": {
     "end_time": "2024-10-09T22:14:15.227629Z",
     "start_time": "2024-10-09T22:14:10.598678Z"
    }
   },
   "outputs": [],
   "source": [
    "es_idx_clip = fob.compute_similarity(\n",
    "    dataset,    \n",
    "    model=\"clip-vit-base32-torch\",\n",
    "    brain_key=\"es_idx_clip\",\n",
    "    backend=\"elasticsearch\",\n",
    "    hosts=[\"http://localhost:9200\"],           \n",
    "    username= \"elastic\",\n",
    "    password=\"cdBfWA3A\",                                               \n",
    "    metric=\"cosine\"\n",
    ")"
   ]
  },
  {
   "cell_type": "code",
   "execution_count": null,
   "id": "605f1f660876fbd6",
   "metadata": {
    "ExecuteTime": {
     "end_time": "2024-10-09T21:44:40.209592Z",
     "start_time": "2024-10-09T21:44:19.705474Z"
    }
   },
   "outputs": [],
   "source": [
    "es_idx_alex = fob.compute_similarity(\n",
    "    dataset,\n",
    "    model=\"alexnet-imagenet-torch\",\n",
    "    brain_key=\"es_idx_alex\",\n",
    "    backend=\"elasticsearch\",\n",
    "    hosts=[\"http://localhost:9200\"],\n",
    "    username= \"elastic\",\n",
    "    password=\"cdBfWA3A\",\n",
    "    metric=\"cosine\"\n",
    ")"
   ]
  },
  {
   "cell_type": "markdown",
   "id": "58f4fea42b13af05",
   "metadata": {},
   "source": [
    "Time to do a query and change the session view"
   ]
  },
  {
   "cell_type": "code",
   "execution_count": null,
   "id": "8d47a5e02464fc43",
   "metadata": {},
   "outputs": [],
   "source": [
    "# query = (\"a cat\"    )\n",
    "# view2 = dataset.sort_by_similarity(query, k=10, brain_key=\"es_idx_clip\")\n",
    "# session.view = view2    \n",
    "\n",
    "# # Query by sample ID\n",
    "# query = dataset.first().id\n",
    "# view = dataset.sort_by_similarity(query, k=10, brain_key=\"es_idx_clip\")\n",
    "# session.view = view     \n"
   ]
  },
  {
   "cell_type": "markdown",
   "id": "70376aa3-91e9-49d1-b85e-24d4b173504d",
   "metadata": {},
   "source": [
    "Finally let's look at the 2D scatter plot of the embeddings. Note, there are several ways to reduce the embedding dimensions to 2, FiftyOne uses Uniform Manifold Approximation and Projection (UMAP) by default https://docs.voxel51.com/brain.html#dimensionality-reduction-methods"
   ]
  },
  {
   "cell_type": "code",
   "execution_count": null,
   "id": "1d834bd18cdead00",
   "metadata": {
    "ExecuteTime": {
     "end_time": "2024-10-09T21:45:04.136679Z",
     "start_time": "2024-10-09T21:44:50.392058Z"
    }
   },
   "outputs": [],
   "source": [
    "clip_viz = fob.compute_visualization(dataset, embeddings=es_idx_clip, brain_key='clip_viz')\n",
    "clip_alex = fob.compute_visualization(dataset, embeddings=es_idx_alex, brain_key='alex_viz')\n"
   ]
  },
  {
   "cell_type": "markdown",
   "id": "79148aa6dcbea0d8",
   "metadata": {},
   "source": [
    "### Notes on running this demo\n",
    "\n",
    "If you do multiple runs of the model look at this doc to explain the already exisiting run index\n",
    "https://voxel51.com/blog/fiftyone-computer-vision-tips-and-tricks-july-28-2023/\n",
    "\n",
    "To start the demo you need to \n",
    "1. start up the mongodb container in podman\n",
    "2. use the elasticsearch script in ~/bin/elastic-start-local \n",
    "3. repo https://github.com/elastic/elastic-start-local \n",
    "4. `docker compose up -d`\n",
    "5. `docker compose stop`\n",
    "6. `docker compose up --wait`  (restarts the service\n",
    "7. password and connection info are .env found in the same directory"
   ]
  }
 ],
 "metadata": {
  "kernelspec": {
   "display_name": "Python 3 (ipykernel)",
   "language": "python",
   "name": "python3"
  },
  "language_info": {
   "codemirror_mode": {
    "name": "ipython",
    "version": 3
   },
   "file_extension": ".py",
   "mimetype": "text/x-python",
   "name": "python",
   "nbconvert_exporter": "python",
   "pygments_lexer": "ipython3",
   "version": "3.12.6"
  }
 },
 "nbformat": 4,
 "nbformat_minor": 5
}
